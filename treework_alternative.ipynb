{
 "cells": [
  {
   "cell_type": "code",
   "execution_count": 1,
   "metadata": {},
   "outputs": [],
   "source": [
    "import sys\n",
    "sys.path.append('/vera/u/olwitt/illustris_python/illustris_python')\n",
    "from loadMPBs import loadMPBs\n",
    "import illustris_python as il\n",
    "import matplotlib.pyplot as plt\n",
    "import numpy as np\n",
    "import h5py\n",
    "import numba as nb\n",
    "from numba import jit, njit\n",
    "import tracerFuncs as tF\n",
    "import illustrisFuncs as iF\n",
    "from scipy.optimize import curve_fit\n",
    "from numpy.linalg import inv\n",
    "\n",
    "plt.style.use('fancy_plots2.mplstyle')"
   ]
  },
  {
   "cell_type": "markdown",
   "metadata": {},
   "source": [
    "# step 1: save position of all subhalos at every snapshot"
   ]
  },
  {
   "cell_type": "code",
   "execution_count": 6,
   "metadata": {},
   "outputs": [],
   "source": [
    "def save_subhalo_pos(basePath):\n",
    "    #load all trees\n",
    "    sub_flag = il.groupcat.loadSubhalos(basePath,99,fields=['SubhaloFlag'])\n",
    "    numSubs = sub_flag.shape[0]\n",
    "    ids = np.arange(numSubs)\n",
    "    trees = loadMPBs(basePath, 99, ids = ids, fields = ['SubhaloPos'])\n",
    "    \n",
    "    #find missing trees\n",
    "    missing = []\n",
    "    tree_check = list(trees)\n",
    "    counter = 0\n",
    "    for i in range(numSubs):\n",
    "        if i != tree_check[counter]:\n",
    "            missing.append(i)\n",
    "            i+=1\n",
    "            continue\n",
    "        counter+=1\n",
    "    \n",
    "    #make all trees the same length\n",
    "    SubhaloPos_allSubs = np.full((numSubs, 100, 3), np.nan)\n",
    "    \n",
    "    for i in range(numSubs):        \n",
    "        if i in missing: #if subhalo hast no tree, skip it and create dataset filled with NaN\n",
    "            sub_flag[i] = 0\n",
    "            continue    \n",
    "        length = trees[i]['count']\n",
    "        SubhaloPos_allSubs[i,:length,:] = trees[i]['SubhaloPos'][:,:]\n",
    "    \n",
    "    #save trees\n",
    "    f = h5py.File('files/' + basePath[32:39] + '/SubhaloPos_new.hdf5','w')\n",
    "    f.create_dataset('SubhaloPos', data = SubhaloPos_allSubs)\n",
    "    f.create_dataset('SubhaloFlag', data = sub_flag)\n",
    "    f.close()\n",
    "    return"
   ]
  },
  {
   "cell_type": "code",
   "execution_count": 10,
   "metadata": {},
   "outputs": [
    {
     "name": "stdout",
     "output_type": "stream",
     "text": [
      "CPU times: user 2min 2s, sys: 16.4 s, total: 2min 19s\n",
      "Wall time: 3min 17s\n"
     ]
    }
   ],
   "source": [
    "%%time\n",
    "sim = 'TNG50-1'\n",
    "basePath='/virgotng/universe/IllustrisTNG/' + sim + '/output'\n",
    "save_subhalo_pos(basePath)"
   ]
  },
  {
   "cell_type": "markdown",
   "metadata": {},
   "source": [
    "wow, that's more than 3000 times faster than the old code..."
   ]
  },
  {
   "cell_type": "markdown",
   "metadata": {},
   "source": [
    "# step 2: extrapolate strange positions of all subhalos"
   ]
  },
  {
   "cell_type": "code",
   "execution_count": 61,
   "metadata": {},
   "outputs": [],
   "source": [
    "@jit(nopython = True)\n",
    "def linear(x,a,b):\n",
    "    return a*x+b\n",
    "\n",
    "# @jit(nopython = True)\n",
    "def normal_condition(coord,k, bad_values, cut, boxSize):\n",
    "    if k == coord.size-1 or k == coord.size: #if last value is reached, then all values before must have been nice\n",
    "        return True, False\n",
    "    if k <= 10:\n",
    "        mean_inds = np.delete(np.arange(k),bad_values[np.where(bad_values[1:] < k)])\n",
    "        dist_to_mean = np.abs(coord[k]-np.mean(coord[mean_inds]))\n",
    "        close_to_bound = np.abs(boxSize - dist_to_mean) < cut/2\n",
    "        \n",
    "        #check, whether coordinate differs more than cut\n",
    "        cond = np.isfinite(coord[k]) and dist_to_mean <= cut\n",
    "#         print('condition: ',cond)\n",
    "        if not cond: #when condition is not fulfilled:\n",
    "            #if coordinate differs too much: try next time step -> one error is okay\n",
    "            dist_to_mean = np.abs(coord[k+1] - np.mean(coord[mean_inds]))\n",
    "            cond = np.isfinite(coord[k+1]) and dist_to_mean <= cut\n",
    "            bad = True #but value before is labeled as 'bad'\n",
    "            return cond, bad\n",
    "        bad = False\n",
    "    else: #if more than 10 steps already: only consider the last 10 steps (=snaps)\n",
    "        mean_inds = np.delete(np.arange(k-10, k),\\\n",
    "                              bad_values[np.where(np.logical_and(bad_values[1:] < k,bad_values[1:] > k-10))])\n",
    "        if k == 80:\n",
    "            print(bad_values[-5:])\n",
    "            print(bad_values[np.where(np.logical_and(bad_values[1:] < k,bad_values[1:] > k-10))])\n",
    "            print(mean_inds)\n",
    "        dist_to_mean = np.abs(coord[k] - np.mean(coord[mean_inds]))\n",
    "        cond =  np.isfinite(coord[k]) and dist_to_mean <= cut\n",
    "        if k == 80:\n",
    "            print(dist_to_mean, cond)\n",
    "        if not cond:\n",
    "            dist_to_mean = np.abs(coord[k+1]-np.mean(coord[mean_inds]))\n",
    "             \n",
    "            cond = np.isfinite(coord[k+1]) and dist_to_mean <= cut\n",
    "            \n",
    "            if k == 80:\n",
    "                print('save? ',dist_to_mean, cond)\n",
    "            \n",
    "            bad = True\n",
    "            return cond, bad\n",
    "        bad = False\n",
    "    return cond, bad\n",
    "\n",
    "@jit(nopython = True)\n",
    "def linear_fit(x,y):\n",
    "    A = np.column_stack((np.ones(x.shape[0]), x))\n",
    "    opt_param = np.ascontiguousarray(inv(A.T@A))@A.T@y\n",
    "    return opt_param\n",
    "\n",
    "@jit(nopython = True)\n",
    "def extrapolate_new(arr, snaps, a, boxSize, cut, bound):\n",
    "    is_extrapolated = np.full(arr.shape[0], False)\n",
    "    test_counter = 0\n",
    "    for i in nb.prange(arr.shape[0]): #extrapolate for every subhalo...\n",
    "        for j in range(3): #... and every coordinate\n",
    "         \n",
    "            #if first or second coordinate could not be extrapolated:\n",
    "#             print(is_extrapolated[i])\n",
    "#             print(is_extrapolated_until_z6[i])\n",
    "            if j > 0 and is_extrapolated[i] == False:\n",
    "#                 print('skip')\n",
    "                continue #skip the other ones\n",
    "            coord = arr[i,:,j]\n",
    "#             nonzero = np.nonzero(coord)[0]\n",
    "            \n",
    "            good_indices = np.arange(coord.size)\n",
    "            gaps = np.where(np.isnan(coord))[0]\n",
    "            \n",
    "            if gaps.size > 80:\n",
    "                is_extrapolated[i] = False\n",
    "#                 print(i)\n",
    "                continue\n",
    "            \n",
    "            top = np.where(coord > (1 - bound) * boxSize)[0]\n",
    "            bottom = np.where(coord < bound * boxSize)[0]\n",
    "            \n",
    "            if top.size > 0 and bottom.size > 0:\n",
    "                if top.size >= bottom.size:\n",
    "                    gaps = np.concatenate((gaps, bottom))\n",
    "                else:\n",
    "                    gaps = np.concatenate((gaps, top))\n",
    "            \n",
    "#             print(gaps)\n",
    "            good_indices = np.delete(good_indices, gaps)\n",
    "            \n",
    "            if i == 1000:\n",
    "                print(good_indices)\n",
    "            \n",
    "            gap_coord = np.interp(a[gaps],a[good_indices],coord[good_indices])\n",
    "            coord[gaps] = gap_coord\n",
    "            new_coord = coord\n",
    "            \n",
    "            k = max(good_indices)\n",
    "            if k < 100:\n",
    "                #only extrapolate with four or more (good nonzero-) entries\n",
    "                if(good_indices.size > 5): \n",
    "                    popt = linear_fit(a[good_indices[-5:]],coord[good_indices[-5:]])\n",
    "                    if i== 1000:\n",
    "                        print(a[good_indices[-5:]], coord[good_indices[-5:]])\n",
    "#                     if np.abs(popt[1]) < 200:\n",
    "                    new_coord[k:] = linear(a[k:],popt[1], popt[0])\n",
    "                    if i==1000 or i==167392:\n",
    "                        print('extrapolated snaps: ',snaps[k:])\n",
    "                        \n",
    "            \n",
    "            new_coord[np.where(new_coord > boxSize)] -= boxSize\n",
    "            new_coord[np.where(new_coord < 0)] += boxSize\n",
    "            is_extrapolated[i] = True\n",
    "#             bad_values = np.array([0]) #save values differing from the mean (to not using them for fitting)\n",
    "            \n",
    "#             k=1 #find the maximum coordiante that doesn't differ from the mean by more than cut\n",
    "#             cond, bad_value = normal_condition(coord,k, bad_values, cut, boxSize)\n",
    "#             while cond and k<=99:\n",
    "#                 if bad_value:\n",
    "#                     bad_values = np.append(bad_values,int(k))\n",
    "#                 k+=1\n",
    "#                 cond, bad_value = normal_condition(coord,k, bad_values, cut, boxSize)\n",
    "                \n",
    "#             bad_values = np.delete(bad_values,0) #delete leading 0 again\n",
    "\n",
    "# #             print('sub, coordinate: ',i,j)\n",
    "# #             print('bad values: ',bad_values)\n",
    "# #             print('max good: ',k)\n",
    "            \n",
    "#             if k >= 99 and bad_values.shape[0] == 0: #if there are no bad values\n",
    "#                 is_extrapolated[i] = True\n",
    "#                 is_extrapolated_until_z6[i] = True\n",
    "# #                 print('nice')\n",
    "#                 continue #with next coordinate\n",
    "            \n",
    "#             fit_indices = np.arange(k)\n",
    "#             fit_indices = np.delete(fit_indices,bad_values)\n",
    "# #             if bad_values.size>1:\n",
    "# #             if i == 167392:\n",
    "# #                 print(bad_values)\n",
    "#             print('sub, coordinate: ',i,j)\n",
    "#             print('bad values: ',bad_values)\n",
    "#             print('good indices: ',fit_indices)\n",
    "            \n",
    "#             #extrapolate single entries in between:\n",
    "#             for bad_ind in range(bad_values.shape[0]):\n",
    "#                 index = bad_values[bad_ind]\n",
    "#                 before = fit_indices[:index]\n",
    "#                 after = fit_indices[index + 1:]\n",
    "#                 if before.shape[0] >= 5 or after.shape[0] >= 5:\n",
    "#                     indices_for_fitting = np.concatenate((fit_indices[index - 5:index],\\\n",
    "#                                                         fit_indices[index + 1:index + 5]))\n",
    "#                     popt = linear_fit(snaps[indices_for_fitting],coord[indices_for_fitting])\n",
    "#                     if np.abs(popt[1]) > 200:\n",
    "#                         test_counter += 1\n",
    "#                         continue #with next bad value\n",
    "#                     coord[index] = linear(snaps[index], popt[1], popt[0])\n",
    "#                     if bad_values.shape[0] > 1:\n",
    "#                         bad_values[bad_ind] = -1\n",
    "#                     else:\n",
    "#                         bad_values = np.array([-1])\n",
    "# #                     print('single value extrapolated')\n",
    "\n",
    "#             if (bad_values<0).all() and k >= 99:\n",
    "#                 is_extrapolated[i] = True\n",
    "#                 is_extrapolated_until_z6[i] = True\n",
    "#             elif (bad_values<0).all() and k >= 87:\n",
    "#                 is_extrapolated_until_z6[i] = True\n",
    "#                 is_extrapolated[i] = False #can be saved below\n",
    "#             else:\n",
    "#                 is_extrapolated_until_z6[i] = False\n",
    "#                 is_extrapolated[i] = False\n",
    "# #                 print('bad values after extrapolation: ',bad_values)\n",
    "#                 if not (bad_values<0).all():\n",
    "#                     continue #with next coordinate\n",
    "            \n",
    "            #extrapolate the last entries\n",
    "#             k = max(good_indices)\n",
    "#             if k < 100:\n",
    "#                 #only extrapolate with four or more (good nonzero-) entries\n",
    "#                 if(good_indices.size > 5): \n",
    "#                     popt = linear_fit(a[good_indices[-5:]],coord[good_indices[-5:]])\n",
    "#                     if np.abs(popt[1]) > 200:\n",
    "#                         #print(i,end=' ')\n",
    "#                         test_counter+=1\n",
    "#                     else:\n",
    "#                         coord[k:] = linear(snaps[k:],popt[1], popt[0])\n",
    "#                         if (bad_values<0).all():\n",
    "#                             is_extrapolated[i] = True\n",
    "#                             is_extrapolated_until_z6[i] = True\n",
    "#                         elif min(bad_values[np.where(bad_values > 0)]) > 87:\n",
    "#                             is_extrapolated_until_z6[i] = True\n",
    "#                             is_extrapolated[i] = False #can be saved below\n",
    "# #                             print('bad values after extrapolation: ',bad_values)\n",
    "            \n",
    "#             #correct for boundary crossing\n",
    "#             coord[np.where(coord > boxSize)] -= boxSize\n",
    "#             coord[np.where(coord < 0)] += boxSize\n",
    "            arr[i,:,j] = new_coord\n",
    "            del coord\n",
    "#     print(test_counter)\n",
    "    return arr, is_extrapolated"
   ]
  },
  {
   "cell_type": "code",
   "execution_count": 58,
   "metadata": {},
   "outputs": [
    {
     "name": "stdout",
     "output_type": "stream",
     "text": [
      "[40. 50. 58.]\n"
     ]
    }
   ],
   "source": [
    "gaps = np.array([0,5,9])\n",
    "x = np.arange(20,40)\n",
    "y = x * 2\n",
    "print(np.interp(x[gaps],x,y))"
   ]
  },
  {
   "cell_type": "code",
   "execution_count": 87,
   "metadata": {},
   "outputs": [
    {
     "name": "stdout",
     "output_type": "stream",
     "text": [
      "[1.         0.99056814 0.97658689 0.96737586 0.95372195 0.94472658\n",
      " 0.93139235 0.92260759 0.90958556 0.90100647 0.88828933 0.87575168\n",
      " 0.86749171 0.8552476  0.84718103 0.8352236  0.82343493 0.81566841\n",
      " 0.80415576 0.7928056  0.78532797 0.77058363 0.76331559 0.75254187\n",
      " 0.74192021 0.73492252 0.72454954 0.71432298 0.70424076 0.69430084\n",
      " 0.68450121 0.6748399  0.66531496 0.65592445 0.64666649 0.63452548\n",
      " 0.62556955 0.61674002 0.60803512 0.59661941 0.5881985  0.57715521\n",
      " 0.56900902 0.55832602 0.55044559 0.54011111 0.52997065 0.52002058\n",
      " 0.51268081 0.50067736 0.49127726 0.48205365 0.47300321 0.46412269\n",
      " 0.45325613 0.44474636 0.43433346 0.42416436 0.41423335 0.40071934\n",
      " 0.39506344 0.38398999 0.37499959 0.36448853 0.35427208 0.344342\n",
      " 0.33310814 0.32224077 0.31172794 0.30155808 0.29034102 0.2795412\n",
      " 0.26787083 0.25668768 0.24949284 0.2334794  0.22267443 0.21236949\n",
      " 0.1996827  0.19316822 0.18422877 0.17653754 0.1667797  0.16057599\n",
      " 0.15314485 0.1460576  0.14263794 0.13348287 0.12491542 0.12141409\n",
      " 0.11634526 0.11096103 0.10582597 0.09997661 0.09625777 0.09093728\n",
      " 0.08350282 0.07704034 0.06254232 0.04751386]\n"
     ]
    }
   ],
   "source": [
    "print(a)"
   ]
  },
  {
   "cell_type": "code",
   "execution_count": 62,
   "metadata": {},
   "outputs": [],
   "source": [
    "#extrapolate positions\n",
    "def extrapolatePos(boxSize, a, cut, bound):\n",
    "    f = h5py.File('files/'+ basePath[32:39] +'/SubhaloPos_new.hdf5', \"r\")\n",
    "    snaps = np.arange(99,-1,-1)\n",
    "    ids = np.array([0,1000,167392])\n",
    "    indcs = np.array([79,80,93])\n",
    "    indcs = np.arange(0,14)\n",
    "    arr = f['SubhaloPos'][:,:,:]\n",
    "    print(arr[1,indcs,1])\n",
    "    \n",
    "    #extrapolate positions and save\n",
    "    res, is_extrapolated = extrapolate_new(arr,snaps,a,boxSize, cut, bound) \n",
    "    print(res[1,indcs,1])\n",
    "    print(np.where(is_extrapolated == False)[0].size)\n",
    "#     print(is_extrapolated)\n",
    "#     print(is_extrapolated_until_z6)\n",
    "#     extrapolate_new.parallel_diagnostics(level=4)\n",
    "    result = h5py.File('files/'+ basePath[32:39] +'/SubhaloPos_new_extrapolated.hdf5', 'w')\n",
    "    result.create_dataset('SubhaloPos',data = res)\n",
    "    result.create_dataset('is_extrapolated', data = is_extrapolated)\n",
    "    f.close()\n",
    "    result.close()\n",
    "    return"
   ]
  },
  {
   "cell_type": "code",
   "execution_count": 63,
   "metadata": {
    "scrolled": true
   },
   "outputs": [
    {
     "name": "stdout",
     "output_type": "stream",
     "text": [
      "[24897.57226562 24942.84960938 25001.83203125 25035.46484375\n",
      " 25078.89453125 25103.29492188 25133.08007812 25148.29296875\n",
      " 25164.         25169.69921875 25170.72070312 25161.57617188\n",
      " 25149.37304688 25120.37695312]\n",
      "[ 0  1  2  3  4  5  6  7  8  9 10 11 12 13 14 15 16 17 18 19 20 21 22 23\n",
      " 24 25 26 27 28 29 30 31 32 33 34 35 36 37 38 39 40 41 42 43 44 45 46 47\n",
      " 48 49 50 51 52 53 54 55 56 57 58 59 60 61 62 63 64 65 66 67 68 69 70 71\n",
      " 72 73 74 75 76 77 78 79 80 81 82 83 84 85 86 87 88 89 90 91 92 93 94]\n",
      "[0.11634526 0.11096103 0.10582597 0.09997661 0.09625777] [2310.98803711 2290.27954102 2262.02661133 2215.62109375 2188.79174805]\n",
      "extrapolated snaps:  [5 4 3 2 1 0]\n",
      "[ 0  1  2  3  4  5  6  7  8  9 10 11 12 13 14 15 16 17 18 19 20 21 22 23\n",
      " 24 25 26 27 28 29 30 31 32 33 34 35 36 37 38 39 40 41 42 43 44 45 46 47\n",
      " 48 49 50 51 52 53 54 55 56 57 58 59 60 61 62 63 64 65 66 67 68 69 70 71\n",
      " 72 73 74 75 76 77 78 79 80 81 82 83 84 85 86 87 88 89 90 91 92 93 94]\n",
      "[0.11634526 0.11096103 0.10582597 0.09997661 0.09625777] [19547.90820312 19530.82421875 19504.97851562 19469.21679688\n",
      " 19436.89648438]\n",
      "extrapolated snaps:  [5 4 3 2 1 0]\n",
      "[ 0  1  2  3  4  5  6  7  8  9 10 11 12 13 14 15 16 17 18 19 20 21 22 23\n",
      " 24 25 26 27 28 29 30 31 32 33 34 35 36 37 38 39 40 41 42 43 44 45 46 47\n",
      " 48 49 50 51 52 53 54 55 56 57 58 59 60 61 62 63 64 65 66 67 68 69 70 71\n",
      " 72 73 74 75 76 77 78 79 80 81 82 83 84 85 86 87 88 89 90 91 92 93 94]\n",
      "[0.11634526 0.11096103 0.10582597 0.09997661 0.09625777] [20498.10351562 20506.32421875 20515.9140625  20526.51171875\n",
      " 20557.29101562]\n",
      "extrapolated snaps:  [5 4 3 2 1 0]\n",
      "extrapolated snaps:  [0]\n",
      "extrapolated snaps:  [7 6 5 4 3 2 1 0]\n",
      "extrapolated snaps:  [0]\n",
      "[24897.57226562 24942.84960938 25001.83203125 25035.46484375\n",
      " 25078.89453125 25103.29492188 25133.08007812 25148.29296875\n",
      " 25164.         25169.69921875 25170.72070312 25161.57617188\n",
      " 25149.37304688 25120.37695312]\n",
      "883071\n",
      "CPU times: user 1min 28s, sys: 7.76 s, total: 1min 36s\n",
      "Wall time: 2min 2s\n"
     ]
    }
   ],
   "source": [
    "%%time\n",
    "sim = 'TNG50-1'\n",
    "basePath='/virgotng/universe/IllustrisTNG/' + sim + '/output'\n",
    "boxSize = il.groupcat.loadHeader(basePath,99)['BoxSize']\n",
    "z = iF.give_z_array(basePath)\n",
    "a = 1/(1+z)\n",
    "cut = 500\n",
    "bound = 0.1\n",
    "extrapolatePos(boxSize, a, cut, bound)"
   ]
  },
  {
   "cell_type": "code",
   "execution_count": 17,
   "metadata": {},
   "outputs": [
    {
     "name": "stdout",
     "output_type": "stream",
     "text": [
      "883071\n",
      "True\n"
     ]
    }
   ],
   "source": [
    "sim = 'TNG50-1'\n",
    "basePath='/virgotng/universe/IllustrisTNG/' + sim + '/output'\n",
    "\n",
    "f = h5py.File('files/' + basePath[32:39] + '/SubhaloPosAtAllSnaps_extrapolated.hdf5','r')\n",
    "g = h5py.File('files/' + basePath[32:39] + '/SubhaloPos_new_extrapolated.hdf5','r')\n",
    "is_extrapolated = g['is_extrapolated'][:]\n",
    "print(np.where(is_extrapolated == False)[0].shape[0])\n",
    "sub_id = 167392#167392#632099#454171\n",
    "sub_pos_old = f['SubhaloPos'][sub_id,:,:]\n",
    "sub_pos_new = g['SubhaloPos'][sub_id,:,:]\n",
    "\n",
    "print(is_extrapolated[sub_id])\n",
    "\n",
    "reference = il.sublink.loadTree(basePath, 99, id = sub_id, fields = ['SubhaloPos'], onlyMPB = True)\n",
    "\n",
    "f.close()\n",
    "g.close()"
   ]
  },
  {
   "cell_type": "code",
   "execution_count": 16,
   "metadata": {},
   "outputs": [
    {
     "data": {
      "text/plain": [
       "<matplotlib.legend.Legend at 0x1501f598b690>"
      ]
     },
     "execution_count": 16,
     "metadata": {},
     "output_type": "execute_result"
    },
    {
     "data": {
      "image/png": "[encoded data removed]",
      "text/plain": [
       "<Figure size 1152x648 with 1 Axes>"
      ]
     },
     "metadata": {
      "needs_background": "light"
     },
     "output_type": "display_data"
    }
   ],
   "source": [
    "snaps = np.arange(99,-1,-1)\n",
    "fig, ax = plt.subplots(1,1,figsize = (16,9))\n",
    "# plt.plot(snaps, sub_pos_old[:,0], color = 'tab:blue', linestyle = 'solid')\n",
    "# plt.plot(snaps, sub_pos_old[:,1], color = 'tab:blue', linestyle = 'dashed')\n",
    "# plt.plot(snaps, sub_pos_old[:,2], color = 'tab:blue', linestyle = 'dotted')\n",
    "\n",
    "# plt.plot(snaps, sub_pos_new[:,0], color = 'tab:orange', linestyle = 'solid')\n",
    "plt.plot(snaps, sub_pos_new[:,1], color = 'tab:orange', linestyle = 'dashed')\n",
    "# plt.plot(snaps, sub_pos_new[:,2], color = 'tab:orange', linestyle = 'dotted')\n",
    "\n",
    "count = reference.shape[0]\n",
    "# plt.plot(snaps[:count], reference[:,0], color = 'tab:green', linestyle = 'solid', label = 'x0')\n",
    "plt.plot(snaps[:count], reference[:,1], color = 'tab:green', linestyle = 'dashed', label = 'x1')\n",
    "# plt.plot(snaps[:count], reference[:,2], color = 'tab:green', linestyle = 'dotted', label = 'x2')\n",
    "\n",
    "# plt.vlines(13, 0, 35000, color = 'black', label = 'z=6')\n",
    "# plt.vlines(50, 0, 35000, color = 'black', linestyle = 'dashed', label = 'z=1')\n",
    "# plt.vlines(67, 0, 35000, color = 'black', linestyle = 'dotted', label = 'z=0.5')\n",
    "plt.legend(loc = 'lower left')\n",
    "#plt.savefig('pics/tmp.pdf', format = 'pdf')"
   ]
  },
  {
   "cell_type": "code",
   "execution_count": 21,
   "metadata": {},
   "outputs": [
    {
     "name": "stdout",
     "output_type": "stream",
     "text": [
      "[0. 0. 0. 0. 0. 0. 0. 0. 0. 0. 0. 0. 0. 0. 0. 0. 0. 0. 0. 0. 0. 0. 0. 0.\n",
      " 0. 0. 0. 0. 0. 0. 0. 0. 0. 0. 0. 0. 0. 0. 0. 0. 0. 0. 0. 0. 0. 0. 0. 0.\n",
      " 0. 0. 0. 0. 0. 0. 0. 0. 0. 0. 0. 0. 0. 0. 0. 0. 0. 0. 0. 0. 0. 0. 0. 0.\n",
      " 0. 0. 0. 0. 0. 0. 0. 0. 0. 0. 0. 0. 0. 0. 0. 0. 0. 0. 0. 0. 0. 0. 0. 0.\n",
      " 0. 0. 0.]\n"
     ]
    }
   ],
   "source": [
    "coo = 2\n",
    "print(reference[:count,coo] - sub_pos_new[:count,coo])\n",
    "# print(sub_pos_new[:count,coo])\n",
    "# print(sub_pos_new[:,coo] - sub_pos_old[:,coo])"
   ]
  },
  {
   "cell_type": "code",
   "execution_count": null,
   "metadata": {},
   "outputs": [],
   "source": []
  }
 ],
 "metadata": {
  "kernelspec": {
   "display_name": "Python 3",
   "language": "python",
   "name": "python3"
  },
  "language_info": {
   "codemirror_mode": {
    "name": "ipython",
    "version": 3
   },
   "file_extension": ".py",
   "mimetype": "text/x-python",
   "name": "python",
   "nbconvert_exporter": "python",
   "pygments_lexer": "ipython3",
   "version": "3.7.6"
  }
 },
 "nbformat": 4,
 "nbformat_minor": 4
}
