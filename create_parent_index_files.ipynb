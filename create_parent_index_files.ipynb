{
 "cells": [
  {
   "cell_type": "code",
   "execution_count": 1,
   "metadata": {},
   "outputs": [],
   "source": [
    "import illustris_python as il\n",
    "import numpy as np\n",
    "import h5py\n",
    "import numba as nb\n",
    "from numba import jit, njit\n",
    "import tracerFuncs as tF\n",
    "import funcs"
   ]
  },
  {
   "cell_type": "code",
   "execution_count": 2,
   "metadata": {},
   "outputs": [
    {
     "name": "stdout",
     "output_type": "stream",
     "text": [
      "0.6774\n"
     ]
    }
   ],
   "source": [
    "basePath='/virgotng/universe/IllustrisTNG/TNG50-4/output'\n",
    "h_const=il.groupcat.loadHeader(basePath,99)['HubbleParam']\n",
    "boxSize = il.groupcat.loadHeader(basePath,99)['BoxSize']\n",
    "print(h_const)"
   ]
  },
  {
   "cell_type": "code",
   "execution_count": 4,
   "metadata": {},
   "outputs": [
    {
     "name": "stdout",
     "output_type": "stream",
     "text": [
      "/wertmp\n"
     ]
    }
   ],
   "source": [
    "import os\n",
    "#os.chdir(\"..\")\n",
    "#os.chdir(\"..\")\n",
    "#os.chdir(\"/tmp/olwitt\")\n",
    "print(os.path.abspath('/wertmp'))"
   ]
  },
  {
   "cell_type": "markdown",
   "metadata": {},
   "source": [
    "do traceback with different redshifts:"
   ]
  },
  {
   "cell_type": "code",
   "execution_count": null,
   "metadata": {
    "scrolled": false
   },
   "outputs": [],
   "source": [
    "%%time\n",
    "tF.TraceBackAllInsituStars(basePath,99,13)"
   ]
  },
  {
   "cell_type": "markdown",
   "metadata": {},
   "source": [
    "# test:"
   ]
  },
  {
   "cell_type": "code",
   "execution_count": 48,
   "metadata": {},
   "outputs": [],
   "source": [
    "all_target_gas_ids = il.snapshot.loadSubset(basePath,99,0,['ParticleIDs'])\n",
    "all_target_star_ids = il.snapshot.loadSubset(basePath,99,4,['ParticleIDs'])"
   ]
  },
  {
   "cell_type": "code",
   "execution_count": 3,
   "metadata": {},
   "outputs": [],
   "source": [
    "def match(ar1, ar2, is_sorted = False):\n",
    "    \"\"\" Returns index arrays i1,i2 of the matching elements between ar1 and ar2. While the elements of ar1 \n",
    "        must be unique, the elements of ar2 need not be. For every matched element of ar2, the return i1 \n",
    "        gives the index in ar1 where it can be found. For every matched element of ar1, the return i2 gives \n",
    "        the index in ar2 where it can be found. Therefore, ar1[i1] = ar2[i2]. The order of ar2[i2] preserves \n",
    "        the order of ar2. Therefore, if all elements of ar2 are in ar1 (e.g. ar1=all TracerIDs in snap, \n",
    "        ar2=set of TracerIDs to locate) then ar2[i2] = ar2. The approach is one sort of ar1 followed by \n",
    "        bisection search for each element of ar2, therefore O(N_ar1*log(N_ar1) + N_ar2*log(N_ar1)) ~= \n",
    "        O(N_ar1*log(N_ar1)) complexity so long as N_ar2 << N_ar1. \"\"\"\n",
    "    \n",
    "    if not is_sorted:\n",
    "        # need a sorted copy of ar1 to run bisection against\n",
    "        index = np.argsort(ar1)\n",
    "        ar1_sorted = ar1[index]\n",
    "    else:\n",
    "        ar1_sorted = ar1\n",
    "        index = np.arange(ar1.shape[0])\n",
    "    # NlogN search of ar1_sorted for each element in ar2\n",
    "    ar1_sorted_index = np.searchsorted(ar1_sorted, ar2)\n",
    "\n",
    "    # undo sort\n",
    "    ar1_inds = np.take(index, ar1_sorted_index, mode=\"clip\")\n",
    "\n",
    "    # filter out non-matches\n",
    "    mask = (ar1[ar1_inds] == ar2)\n",
    "    ar2_inds = np.where(mask)[0]\n",
    "    \n",
    "    #fill non-matches with -1\n",
    "    ar1_inds[np.where(np.logical_not(mask))[0]] = -1\n",
    "    #ar1_inds = ar1_inds[ar2_inds]\n",
    "\n",
    "    return ar1_inds, ar2_inds"
   ]
  },
  {
   "cell_type": "code",
   "execution_count": 4,
   "metadata": {},
   "outputs": [],
   "source": [
    "def parentIndicesOfAll(parent_ids, all_gas_ids, all_star_ids): \n",
    "    #which parent corresponds to which gas/star particles?\n",
    "    #for this: save index into gas('0') / star('1') subset array\n",
    "    target_parent_indices = np.zeros((len(parent_ids),2))\n",
    "    gas_inds, _ = match(all_gas_ids,parent_ids) #only inds1 relevant\n",
    "    star_inds, _ = match(all_star_ids,parent_ids) #only inds1 relevant\n",
    "    \n",
    "    #gas_inds now contains either the indices of gas parents into the gas subset or -1; same for star_inds\n",
    "    target_parent_indices[:,0] = gas_inds\n",
    "    target_parent_indices[:,1] = 0\n",
    "    target_parent_indices[np.where(gas_inds == -1)[0],1] = 1 #no gas index found => parent is a star\n",
    "    target_parent_indices[np.where(gas_inds == -1)[0],0] = star_inds[np.where(star_inds!=-1)[0]]\n",
    "    del gas_inds, star_inds\n",
    "    return target_parent_indices"
   ]
  },
  {
   "cell_type": "code",
   "execution_count": 72,
   "metadata": {},
   "outputs": [
    {
     "name": "stdout",
     "output_type": "stream",
     "text": [
      "CPU times: user 1min 29s, sys: 1.74 s, total: 1min 31s\n",
      "Wall time: 1min 31s\n"
     ]
    }
   ],
   "source": [
    "%%time\n",
    "a = parentIndicesOfAll(all_target_gas_ids,all_target_gas_ids,all_target_star_ids)"
   ]
  },
  {
   "cell_type": "code",
   "execution_count": 74,
   "metadata": {},
   "outputs": [
    {
     "name": "stdout",
     "output_type": "stream",
     "text": [
      "[]\n"
     ]
    }
   ],
   "source": [
    "test = np.where(a[:,1]==1)[0]\n",
    "print(test)"
   ]
  },
  {
   "cell_type": "code",
   "execution_count": 4,
   "metadata": {},
   "outputs": [
    {
     "name": "stdout",
     "output_type": "stream",
     "text": [
      "False\n",
      "# matches:  5\n",
      "# non-matches:  1\n",
      "[4 0 1]\n"
     ]
    }
   ],
   "source": [
    "ar2 = np.array([1,1,4,3,0,4]) #parent_ids\n",
    "ar1 = np.array([4,1,0]) #gas_ids\n",
    "inds1, inds2 = tF.match(ar1,ar2)\n",
    "print(np.ravel(ar1)[np.array([0,2,1])]) #alternative to np.take"
   ]
  },
  {
   "cell_type": "code",
   "execution_count": 5,
   "metadata": {},
   "outputs": [
    {
     "name": "stdout",
     "output_type": "stream",
     "text": [
      "[ 1  1  0 -1  2  0]\n",
      "[0 1 2 4 5]\n"
     ]
    }
   ],
   "source": [
    "print(inds1)\n",
    "print(inds2)"
   ]
  },
  {
   "cell_type": "markdown",
   "metadata": {},
   "source": [
    "## real function"
   ]
  },
  {
   "cell_type": "code",
   "execution_count": 3,
   "metadata": {},
   "outputs": [],
   "source": [
    "#define function that saves results from TraceAllStars now for every single snapshot\n",
    "def TraceBackAllInsituStars_allSnaps(basePath,start_snap):\n",
    "    #load all star ids from a specific galaxy\n",
    "    star_ids = il.snapshot.loadSubset(basePath,start_snap,'stars',fields=['ParticleIDs'])\n",
    "\n",
    "    #determine all stars that were formed insitu\n",
    "    insitu = funcs.is_insitu(basePath,start_snap)\n",
    "    insitu = np.asarray(insitu == 1)\n",
    "    insitu_star_indices = np.nonzero(insitu)[0]\n",
    "    \n",
    "    insituStarsInSubOffset = tF.insituStarsInSubOffset(basePath, start_snap)\n",
    "    \n",
    "    sim = basePath[32:39]\n",
    "    \n",
    "    #result = h5py.File('files/' + sim + '/all_parent_indices.hdf5','w')\n",
    "#     result = h5py.File('/tmp/parent_index_table_' + basePath[35:39] + '.hdf5','w')    \n",
    "    \n",
    "    #run function for every snapshot\n",
    "    for target_snap in np.arange(99,1,-1):\n",
    "        parent_indices, numTracersInParents = tF.TraceAllStars(basePath,star_ids[insitu_star_indices],\\\n",
    "                                                       start_snap,target_snap,insituStarsInSubOffset)  \n",
    "        #save results in hdf5 file\n",
    "\n",
    "#         grp = result.create_group(f'snap_0{target_snap}')\n",
    "#         dset = grp.create_dataset(\"parent_indices\", parent_indices.shape, dtype=float)\n",
    "#         dset[:] = parent_indices\n",
    "#         dset2 = grp.create_dataset('numTracersInParents',numTracersInParents.shape, dtype=float)\n",
    "#         dset2[:] = numTracersInParents\n",
    "        print(target_snap, 'done',end = '; ', flush=True)\n",
    "#     result.close()\n",
    "    return"
   ]
  },
  {
   "cell_type": "code",
   "execution_count": 4,
   "metadata": {
    "scrolled": true
   },
   "outputs": [
    {
     "name": "stdout",
     "output_type": "stream",
     "text": [
      "time for finding tracers:  7.3217902183532715\n",
      "time for creating sorted arrays:  92.9434015750885\n",
      "time for getting indices and sorting:  29.189345359802246\n"
     ]
    },
    {
     "ename": "KeyboardInterrupt",
     "evalue": "",
     "output_type": "error",
     "traceback": [
      "\u001b[0;31m---------------------------------------------------------------------------\u001b[0m",
      "\u001b[0;31mKeyboardInterrupt\u001b[0m                         Traceback (most recent call last)",
      "\u001b[0;32m<timed exec>\u001b[0m in \u001b[0;36m<module>\u001b[0;34m\u001b[0m\n",
      "\u001b[0;32m<ipython-input-3-f3c3a234d74a>\u001b[0m in \u001b[0;36mTraceBackAllInsituStars_allSnaps\u001b[0;34m(basePath, start_snap)\u001b[0m\n\u001b[1;32m     19\u001b[0m     \u001b[0;32mfor\u001b[0m \u001b[0mtarget_snap\u001b[0m \u001b[0;32min\u001b[0m \u001b[0mnp\u001b[0m\u001b[0;34m.\u001b[0m\u001b[0marange\u001b[0m\u001b[0;34m(\u001b[0m\u001b[0;36m99\u001b[0m\u001b[0;34m,\u001b[0m\u001b[0;36m1\u001b[0m\u001b[0;34m,\u001b[0m\u001b[0;34m-\u001b[0m\u001b[0;36m1\u001b[0m\u001b[0;34m)\u001b[0m\u001b[0;34m:\u001b[0m\u001b[0;34m\u001b[0m\u001b[0;34m\u001b[0m\u001b[0m\n\u001b[1;32m     20\u001b[0m         parent_indices, numTracersInParents = tF.TraceAllStars(basePath,star_ids[insitu_star_indices],\\\n\u001b[0;32m---> 21\u001b[0;31m                                                        start_snap,target_snap,insituStarsInSubOffset)  \n\u001b[0m\u001b[1;32m     22\u001b[0m         \u001b[0;31m#save results in hdf5 file\u001b[0m\u001b[0;34m\u001b[0m\u001b[0;34m\u001b[0m\u001b[0;34m\u001b[0m\u001b[0m\n\u001b[1;32m     23\u001b[0m \u001b[0;34m\u001b[0m\u001b[0m\n",
      "\u001b[0;32m/vera/u/olwitt/bachelor_thesis/tracerFuncs.py\u001b[0m in \u001b[0;36mTraceAllStars\u001b[0;34m(***failed resolving arguments***)\u001b[0m\n\u001b[1;32m    259\u001b[0m \u001b[0;34m\u001b[0m\u001b[0m\n\u001b[1;32m    260\u001b[0m     target_parent_indices = parentIndicesOfAll(parent_ids = target_parent_search_ids, all_gas_ids = all_target_gas_ids,\\\n\u001b[0;32m--> 261\u001b[0;31m                                                all_star_ids = all_target_star_ids)\n\u001b[0m\u001b[1;32m    262\u001b[0m \u001b[0;34m\u001b[0m\u001b[0m\n\u001b[1;32m    263\u001b[0m     \u001b[0mend\u001b[0m \u001b[0;34m=\u001b[0m \u001b[0mtime\u001b[0m\u001b[0;34m.\u001b[0m\u001b[0mtime\u001b[0m\u001b[0;34m(\u001b[0m\u001b[0;34m)\u001b[0m\u001b[0;34m\u001b[0m\u001b[0;34m\u001b[0m\u001b[0m\n",
      "\u001b[0;31mKeyboardInterrupt\u001b[0m: "
     ]
    }
   ],
   "source": [
    "%%time\n",
    "basePath='/virgotng/universe/IllustrisTNG/TNG50-2/output'\n",
    "TraceBackAllInsituStars_allSnaps(basePath,start_snap = 99)"
   ]
  },
  {
   "cell_type": "code",
   "execution_count": 15,
   "metadata": {},
   "outputs": [
    {
     "name": "stdout",
     "output_type": "stream",
     "text": [
      "<KeysViewHDF5 ['snap_010', 'snap_011', 'snap_012', 'snap_013', 'snap_014', 'snap_015', 'snap_016', 'snap_017', 'snap_018', 'snap_019', 'snap_02', 'snap_020', 'snap_021', 'snap_022', 'snap_023', 'snap_024', 'snap_025', 'snap_026', 'snap_027', 'snap_028', 'snap_029', 'snap_03', 'snap_030', 'snap_031', 'snap_032', 'snap_033', 'snap_034', 'snap_035', 'snap_036', 'snap_037', 'snap_038', 'snap_039', 'snap_04', 'snap_040', 'snap_041', 'snap_042', 'snap_043', 'snap_044', 'snap_045', 'snap_046', 'snap_047', 'snap_048', 'snap_049', 'snap_05', 'snap_050', 'snap_051', 'snap_052', 'snap_053', 'snap_054', 'snap_055', 'snap_056', 'snap_057', 'snap_058', 'snap_059', 'snap_06', 'snap_060', 'snap_061', 'snap_062', 'snap_063', 'snap_064', 'snap_065', 'snap_066', 'snap_067', 'snap_068', 'snap_069', 'snap_07', 'snap_070', 'snap_071', 'snap_072', 'snap_073', 'snap_074', 'snap_075', 'snap_076', 'snap_077', 'snap_078', 'snap_079', 'snap_08', 'snap_080', 'snap_081', 'snap_082', 'snap_083', 'snap_084', 'snap_085', 'snap_086', 'snap_087', 'snap_088', 'snap_089', 'snap_09', 'snap_090', 'snap_091', 'snap_092', 'snap_093', 'snap_094', 'snap_095', 'snap_096', 'snap_097', 'snap_098', 'snap_099']>\n",
      "True\n",
      "True\n"
     ]
    }
   ],
   "source": [
    "f = h5py.File('files/TNG50-3/all_parent_indices.hdf5','r')\n",
    "print(f.keys())\n",
    "print(f.__contains__('snap_099/tracers_in_parents_offset'))\n",
    "print(f.__contains__('snap_099/parent_indices'))\n",
    "f.close()"
   ]
  },
  {
   "cell_type": "code",
   "execution_count": 17,
   "metadata": {},
   "outputs": [
    {
     "name": "stdout",
     "output_type": "stream",
     "text": [
      "parent_indices\n",
      "tracers_in_parents_offset\n"
     ]
    }
   ],
   "source": [
    "f = h5py.File('files/TNG50-3/all_parent_indices.hdf5','r')\n",
    "for name in f['snap_099']:\n",
    "    print(name)\n",
    "f.close()"
   ]
  },
  {
   "cell_type": "code",
   "execution_count": null,
   "metadata": {},
   "outputs": [],
   "source": []
  }
 ],
 "metadata": {
  "kernelspec": {
   "display_name": "Python 3",
   "language": "python",
   "name": "python3"
  },
  "language_info": {
   "codemirror_mode": {
    "name": "ipython",
    "version": 3
   },
   "file_extension": ".py",
   "mimetype": "text/x-python",
   "name": "python",
   "nbconvert_exporter": "python",
   "pygments_lexer": "ipython3",
   "version": "3.7.6"
  }
 },
 "nbformat": 4,
 "nbformat_minor": 4
}
