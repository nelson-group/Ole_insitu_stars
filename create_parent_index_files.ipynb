{
 "cells": [
  {
   "cell_type": "code",
   "execution_count": 1,
   "metadata": {},
   "outputs": [],
   "source": [
    "import illustris_python as il\n",
    "import matplotlib.pyplot as plt\n",
    "import numpy as np\n",
    "import h5py\n",
    "import numba as nb\n",
    "from numba import jit, njit\n",
    "import tracerFuncs as tF\n",
    "import insituFuncs as iF\n",
    "\n",
    "plt.style.use('default')\n",
    "plt.rcParams[\"figure.figsize\"][0] = 16\n",
    "plt.rcParams[\"figure.figsize\"][1] = 9\n",
    "plt.rcParams['errorbar.capsize']=2"
   ]
  },
  {
   "cell_type": "code",
   "execution_count": 2,
   "metadata": {},
   "outputs": [
    {
     "name": "stdout",
     "output_type": "stream",
     "text": [
      "0.6774\n"
     ]
    }
   ],
   "source": [
    "basePath='/virgotng/universe/IllustrisTNG/TNG50-2/output'\n",
    "h_const=il.groupcat.loadHeader(basePath,99)['HubbleParam']\n",
    "boxSize = il.groupcat.loadHeader(basePath,99)['BoxSize']\n",
    "print(h_const)"
   ]
  },
  {
   "cell_type": "markdown",
   "metadata": {},
   "source": [
    "do traceback with different redshifts:"
   ]
  },
  {
   "cell_type": "code",
   "execution_count": 5,
   "metadata": {},
   "outputs": [
    {
     "name": "stdout",
     "output_type": "stream",
     "text": [
      "CPU times: user 22min 24s, sys: 1min 8s, total: 23min 33s\n",
      "Wall time: 24min 37s\n"
     ]
    }
   ],
   "source": [
    "%%time\n",
    "tF.TraceBackAllInsituStars(basePath,99,25)"
   ]
  },
  {
   "cell_type": "markdown",
   "metadata": {},
   "source": [
    "# test:"
   ]
  },
  {
   "cell_type": "code",
   "execution_count": 48,
   "metadata": {},
   "outputs": [],
   "source": [
    "all_target_gas_ids = il.snapshot.loadSubset(basePath,99,0,['ParticleIDs'])\n",
    "all_target_star_ids = il.snapshot.loadSubset(basePath,99,4,['ParticleIDs'])"
   ]
  },
  {
   "cell_type": "code",
   "execution_count": 52,
   "metadata": {},
   "outputs": [],
   "source": [
    "def match(ar1, ar2, is_sorted = False):\n",
    "    \"\"\" Returns index arrays i1,i2 of the matching elements between ar1 and ar2. While the elements of ar1 \n",
    "        must be unique, the elements of ar2 need not be. For every matched element of ar2, the return i1 \n",
    "        gives the index in ar1 where it can be found. For every matched element of ar1, the return i2 gives \n",
    "        the index in ar2 where it can be found. Therefore, ar1[i1] = ar2[i2]. The order of ar2[i2] preserves \n",
    "        the order of ar2. Therefore, if all elements of ar2 are in ar1 (e.g. ar1=all TracerIDs in snap, \n",
    "        ar2=set of TracerIDs to locate) then ar2[i2] = ar2. The approach is one sort of ar1 followed by \n",
    "        bisection search for each element of ar2, therefore O(N_ar1*log(N_ar1) + N_ar2*log(N_ar1)) ~= \n",
    "        O(N_ar1*log(N_ar1)) complexity so long as N_ar2 << N_ar1. \"\"\"\n",
    "    \n",
    "    if not is_sorted:\n",
    "        # need a sorted copy of ar1 to run bisection against\n",
    "        index = np.argsort(ar1)\n",
    "        ar1_sorted = ar1[index]\n",
    "    else:\n",
    "        ar1_sorted = ar1\n",
    "        index = np.arange(ar1.shape[0])\n",
    "    # NlogN search of ar1_sorted for each element in ar2\n",
    "    ar1_sorted_index = np.searchsorted(ar1_sorted, ar2)\n",
    "\n",
    "    # undo sort\n",
    "    ar1_inds = np.take(index, ar1_sorted_index, mode=\"clip\")\n",
    "\n",
    "    # filter out non-matches\n",
    "    mask = (ar1[ar1_inds] == ar2)\n",
    "    ar2_inds = np.where(mask)[0]\n",
    "    \n",
    "    #fill non-matches with -1\n",
    "    ar1_inds[np.where(np.logical_not(mask))[0]] = -1\n",
    "    #ar1_inds = ar1_inds[ar2_inds]\n",
    "\n",
    "    return ar1_inds, ar2_inds"
   ]
  },
  {
   "cell_type": "code",
   "execution_count": 66,
   "metadata": {},
   "outputs": [],
   "source": [
    "def parentIndicesOfAll(parent_ids, all_gas_ids, all_star_ids): \n",
    "    #which parent corresponds to which gas/star particles?\n",
    "    #for this: save index into gas('0') / star('1') subset array\n",
    "    target_parent_indices = np.zeros((len(parent_ids),2))\n",
    "    gas_inds, _ = match(all_gas_ids,parent_ids) #only inds1 relevant\n",
    "    star_inds, _ = match(all_star_ids,parent_ids) #only inds1 relevant\n",
    "    \n",
    "    #gas_inds now contains either the indices of gas parents into the gas subset or -1; same for star_inds\n",
    "    target_parent_indices[:,0] = gas_inds\n",
    "    target_parent_indices[:,1] = 0\n",
    "    target_parent_indices[np.where(gas_inds == -1)[0],1] = 1 #no gas index found => parent is a star\n",
    "    target_parent_indices[np.where(gas_inds == -1)[0],0] = star_inds[np.where(star_inds!=-1)[0]]\n",
    "    del gas_inds, star_inds\n",
    "    return target_parent_indices"
   ]
  },
  {
   "cell_type": "code",
   "execution_count": 72,
   "metadata": {},
   "outputs": [
    {
     "name": "stdout",
     "output_type": "stream",
     "text": [
      "CPU times: user 1min 29s, sys: 1.74 s, total: 1min 31s\n",
      "Wall time: 1min 31s\n"
     ]
    }
   ],
   "source": [
    "%%time\n",
    "a = parentIndicesOfAll(all_target_gas_ids,all_target_gas_ids,all_target_star_ids)"
   ]
  },
  {
   "cell_type": "code",
   "execution_count": 74,
   "metadata": {},
   "outputs": [
    {
     "name": "stdout",
     "output_type": "stream",
     "text": [
      "[]\n"
     ]
    }
   ],
   "source": [
    "test = np.where(a[:,1]==1)[0]\n",
    "print(test)"
   ]
  },
  {
   "cell_type": "code",
   "execution_count": 53,
   "metadata": {},
   "outputs": [],
   "source": [
    "ar2 = np.array([1,1,4,3,0,4]) #parent_ids\n",
    "ar1 = np.array([4,1,0]) #gas_ids\n",
    "inds1, inds2 = match(ar1,ar2)"
   ]
  },
  {
   "cell_type": "code",
   "execution_count": 54,
   "metadata": {},
   "outputs": [
    {
     "name": "stdout",
     "output_type": "stream",
     "text": [
      "[ 1  1  0 -1  2  0]\n",
      "[0 1 2 4 5]\n"
     ]
    }
   ],
   "source": [
    "print(inds1)\n",
    "print(inds2)"
   ]
  },
  {
   "cell_type": "code",
   "execution_count": null,
   "metadata": {},
   "outputs": [],
   "source": []
  }
 ],
 "metadata": {
  "kernelspec": {
   "display_name": "Python 3",
   "language": "python",
   "name": "python3"
  },
  "language_info": {
   "codemirror_mode": {
    "name": "ipython",
    "version": 3
   },
   "file_extension": ".py",
   "mimetype": "text/x-python",
   "name": "python",
   "nbconvert_exporter": "python",
   "pygments_lexer": "ipython3",
   "version": "3.7.6"
  }
 },
 "nbformat": 4,
 "nbformat_minor": 4
}
