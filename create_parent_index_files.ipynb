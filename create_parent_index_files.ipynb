{
 "cells": [
  {
   "cell_type": "code",
   "execution_count": 1,
   "metadata": {},
   "outputs": [],
   "source": [
    "import illustris_python as il\n",
    "import matplotlib.pyplot as plt\n",
    "import numpy as np\n",
    "import h5py\n",
    "import numba as nb\n",
    "from numba import jit, njit\n",
    "import tracerFuncs as tF\n",
    "import insituFuncs as iF\n",
    "import funcs\n",
    "\n",
    "plt.style.use('default')\n",
    "plt.rcParams[\"figure.figsize\"][0] = 16\n",
    "plt.rcParams[\"figure.figsize\"][1] = 9\n",
    "plt.rcParams['errorbar.capsize']=2"
   ]
  },
  {
   "cell_type": "code",
   "execution_count": 2,
   "metadata": {},
   "outputs": [
    {
     "name": "stdout",
     "output_type": "stream",
     "text": [
      "0.6774\n"
     ]
    }
   ],
   "source": [
    "basePath='/virgotng/universe/IllustrisTNG/TNG50-4/output'\n",
    "h_const=il.groupcat.loadHeader(basePath,99)['HubbleParam']\n",
    "boxSize = il.groupcat.loadHeader(basePath,99)['BoxSize']\n",
    "print(h_const)"
   ]
  },
  {
   "cell_type": "markdown",
   "metadata": {},
   "source": [
    "do traceback with different redshifts:"
   ]
  },
  {
   "cell_type": "code",
   "execution_count": 3,
   "metadata": {
    "scrolled": false
   },
   "outputs": [
    {
     "name": "stdout",
     "output_type": "stream",
     "text": [
      "gas:\n",
      "False\n",
      "# matches:  273367\n",
      "# non-matches:  2173\n",
      "stars:\n",
      "False\n",
      "# matches:  2174\n",
      "# non-matches:  273366\n"
     ]
    },
    {
     "ename": "ValueError",
     "evalue": "shape mismatch: value array of shape (2174,) could not be broadcast to indexing result of shape (2173,)",
     "output_type": "error",
     "traceback": [
      "\u001b[0;31m---------------------------------------------------------------------------\u001b[0m",
      "\u001b[0;31mValueError\u001b[0m                                Traceback (most recent call last)",
      "\u001b[0;32m<timed eval>\u001b[0m in \u001b[0;36m<module>\u001b[0;34m\u001b[0m\n",
      "\u001b[0;32m/vera/u/olwitt/project/tracerFuncs.py\u001b[0m in \u001b[0;36mTraceBackAllInsituStars\u001b[0;34m(basePath, start_snap, target_snap)\u001b[0m\n\u001b[1;32m    265\u001b[0m     \u001b[0;31m#run function\u001b[0m\u001b[0;34m\u001b[0m\u001b[0;34m\u001b[0m\u001b[0;34m\u001b[0m\u001b[0m\n\u001b[1;32m    266\u001b[0m     parent_indices, tracersInSubOffset = TraceAllStars(basePath,star_ids[insitu_star_indices],\\\n\u001b[0;32m--> 267\u001b[0;31m                                                        start_snap,target_snap,insituStarsInSubOffset_start_snap)\n\u001b[0m\u001b[1;32m    268\u001b[0m \u001b[0;34m\u001b[0m\u001b[0m\n\u001b[1;32m    269\u001b[0m     \u001b[0mredshift\u001b[0m \u001b[0;34m=\u001b[0m \u001b[0mil\u001b[0m\u001b[0;34m.\u001b[0m\u001b[0mgroupcat\u001b[0m\u001b[0;34m.\u001b[0m\u001b[0mloadHeader\u001b[0m\u001b[0;34m(\u001b[0m\u001b[0mbasePath\u001b[0m\u001b[0;34m,\u001b[0m\u001b[0mtarget_snap\u001b[0m\u001b[0;34m)\u001b[0m\u001b[0;34m[\u001b[0m\u001b[0;34m'Redshift'\u001b[0m\u001b[0;34m]\u001b[0m\u001b[0;34m\u001b[0m\u001b[0;34m\u001b[0m\u001b[0m\n",
      "\u001b[0;32m/vera/u/olwitt/project/tracerFuncs.py\u001b[0m in \u001b[0;36mTraceAllStars\u001b[0;34m(basePath, star_ids, start_snap, target_snap, StarsInSubOffset)\u001b[0m\n\u001b[1;32m    247\u001b[0m \u001b[0;34m\u001b[0m\u001b[0m\n\u001b[1;32m    248\u001b[0m     target_parent_indices = parentIndicesOfAll(parent_ids = target_search_parent_ids, all_gas_ids = all_target_gas_ids,\\\n\u001b[0;32m--> 249\u001b[0;31m                                                all_star_ids = all_target_star_ids)\n\u001b[0m\u001b[1;32m    250\u001b[0m \u001b[0;34m\u001b[0m\u001b[0m\n\u001b[1;32m    251\u001b[0m \u001b[0;34m\u001b[0m\u001b[0m\n",
      "\u001b[0;32m/vera/u/olwitt/project/tracerFuncs.py\u001b[0m in \u001b[0;36mparentIndicesOfAll\u001b[0;34m(parent_ids, all_gas_ids, all_star_ids)\u001b[0m\n\u001b[1;32m    195\u001b[0m     \u001b[0mtarget_parent_indices\u001b[0m\u001b[0;34m[\u001b[0m\u001b[0;34m:\u001b[0m\u001b[0;34m,\u001b[0m\u001b[0;36m1\u001b[0m\u001b[0;34m]\u001b[0m \u001b[0;34m=\u001b[0m \u001b[0;36m0\u001b[0m\u001b[0;34m\u001b[0m\u001b[0;34m\u001b[0m\u001b[0m\n\u001b[1;32m    196\u001b[0m     \u001b[0mtarget_parent_indices\u001b[0m\u001b[0;34m[\u001b[0m\u001b[0mnp\u001b[0m\u001b[0;34m.\u001b[0m\u001b[0mwhere\u001b[0m\u001b[0;34m(\u001b[0m\u001b[0mgas_inds\u001b[0m \u001b[0;34m==\u001b[0m \u001b[0;34m-\u001b[0m\u001b[0;36m1\u001b[0m\u001b[0;34m)\u001b[0m\u001b[0;34m[\u001b[0m\u001b[0;36m0\u001b[0m\u001b[0;34m]\u001b[0m\u001b[0;34m,\u001b[0m\u001b[0;36m1\u001b[0m\u001b[0;34m]\u001b[0m \u001b[0;34m=\u001b[0m \u001b[0;36m1\u001b[0m \u001b[0;31m#no gas index found => parent is a star\u001b[0m\u001b[0;34m\u001b[0m\u001b[0;34m\u001b[0m\u001b[0m\n\u001b[0;32m--> 197\u001b[0;31m     \u001b[0mtarget_parent_indices\u001b[0m\u001b[0;34m[\u001b[0m\u001b[0mnp\u001b[0m\u001b[0;34m.\u001b[0m\u001b[0mwhere\u001b[0m\u001b[0;34m(\u001b[0m\u001b[0mgas_inds\u001b[0m \u001b[0;34m==\u001b[0m \u001b[0;34m-\u001b[0m\u001b[0;36m1\u001b[0m\u001b[0;34m)\u001b[0m\u001b[0;34m[\u001b[0m\u001b[0;36m0\u001b[0m\u001b[0;34m]\u001b[0m\u001b[0;34m,\u001b[0m\u001b[0;36m0\u001b[0m\u001b[0;34m]\u001b[0m \u001b[0;34m=\u001b[0m \u001b[0mstar_inds\u001b[0m\u001b[0;34m[\u001b[0m\u001b[0mnp\u001b[0m\u001b[0;34m.\u001b[0m\u001b[0mwhere\u001b[0m\u001b[0;34m(\u001b[0m\u001b[0mstar_inds\u001b[0m\u001b[0;34m!=\u001b[0m\u001b[0;34m-\u001b[0m\u001b[0;36m1\u001b[0m\u001b[0;34m)\u001b[0m\u001b[0;34m[\u001b[0m\u001b[0;36m0\u001b[0m\u001b[0;34m]\u001b[0m\u001b[0;34m]\u001b[0m\u001b[0;34m\u001b[0m\u001b[0;34m\u001b[0m\u001b[0m\n\u001b[0m\u001b[1;32m    198\u001b[0m     \u001b[0;32mdel\u001b[0m \u001b[0mgas_inds\u001b[0m\u001b[0;34m,\u001b[0m \u001b[0mstar_inds\u001b[0m\u001b[0;34m\u001b[0m\u001b[0;34m\u001b[0m\u001b[0m\n\u001b[1;32m    199\u001b[0m     \u001b[0;32mreturn\u001b[0m \u001b[0mtarget_parent_indices\u001b[0m\u001b[0;34m\u001b[0m\u001b[0;34m\u001b[0m\u001b[0m\n",
      "\u001b[0;31mValueError\u001b[0m: shape mismatch: value array of shape (2174,) could not be broadcast to indexing result of shape (2173,)"
     ]
    }
   ],
   "source": [
    "%%time\n",
    "tF.TraceBackAllInsituStars(basePath,99,13)"
   ]
  },
  {
   "cell_type": "markdown",
   "metadata": {},
   "source": [
    "# test:"
   ]
  },
  {
   "cell_type": "code",
   "execution_count": 48,
   "metadata": {},
   "outputs": [],
   "source": [
    "all_target_gas_ids = il.snapshot.loadSubset(basePath,99,0,['ParticleIDs'])\n",
    "all_target_star_ids = il.snapshot.loadSubset(basePath,99,4,['ParticleIDs'])"
   ]
  },
  {
   "cell_type": "code",
   "execution_count": 52,
   "metadata": {},
   "outputs": [],
   "source": [
    "def match(ar1, ar2, is_sorted = False):\n",
    "    \"\"\" Returns index arrays i1,i2 of the matching elements between ar1 and ar2. While the elements of ar1 \n",
    "        must be unique, the elements of ar2 need not be. For every matched element of ar2, the return i1 \n",
    "        gives the index in ar1 where it can be found. For every matched element of ar1, the return i2 gives \n",
    "        the index in ar2 where it can be found. Therefore, ar1[i1] = ar2[i2]. The order of ar2[i2] preserves \n",
    "        the order of ar2. Therefore, if all elements of ar2 are in ar1 (e.g. ar1=all TracerIDs in snap, \n",
    "        ar2=set of TracerIDs to locate) then ar2[i2] = ar2. The approach is one sort of ar1 followed by \n",
    "        bisection search for each element of ar2, therefore O(N_ar1*log(N_ar1) + N_ar2*log(N_ar1)) ~= \n",
    "        O(N_ar1*log(N_ar1)) complexity so long as N_ar2 << N_ar1. \"\"\"\n",
    "    \n",
    "    if not is_sorted:\n",
    "        # need a sorted copy of ar1 to run bisection against\n",
    "        index = np.argsort(ar1)\n",
    "        ar1_sorted = ar1[index]\n",
    "    else:\n",
    "        ar1_sorted = ar1\n",
    "        index = np.arange(ar1.shape[0])\n",
    "    # NlogN search of ar1_sorted for each element in ar2\n",
    "    ar1_sorted_index = np.searchsorted(ar1_sorted, ar2)\n",
    "\n",
    "    # undo sort\n",
    "    ar1_inds = np.take(index, ar1_sorted_index, mode=\"clip\")\n",
    "\n",
    "    # filter out non-matches\n",
    "    mask = (ar1[ar1_inds] == ar2)\n",
    "    ar2_inds = np.where(mask)[0]\n",
    "    \n",
    "    #fill non-matches with -1\n",
    "    ar1_inds[np.where(np.logical_not(mask))[0]] = -1\n",
    "    #ar1_inds = ar1_inds[ar2_inds]\n",
    "\n",
    "    return ar1_inds, ar2_inds"
   ]
  },
  {
   "cell_type": "code",
   "execution_count": 66,
   "metadata": {},
   "outputs": [],
   "source": [
    "def parentIndicesOfAll(parent_ids, all_gas_ids, all_star_ids): \n",
    "    #which parent corresponds to which gas/star particles?\n",
    "    #for this: save index into gas('0') / star('1') subset array\n",
    "    target_parent_indices = np.zeros((len(parent_ids),2))\n",
    "    gas_inds, _ = match(all_gas_ids,parent_ids) #only inds1 relevant\n",
    "    star_inds, _ = match(all_star_ids,parent_ids) #only inds1 relevant\n",
    "    \n",
    "    #gas_inds now contains either the indices of gas parents into the gas subset or -1; same for star_inds\n",
    "    target_parent_indices[:,0] = gas_inds\n",
    "    target_parent_indices[:,1] = 0\n",
    "    target_parent_indices[np.where(gas_inds == -1)[0],1] = 1 #no gas index found => parent is a star\n",
    "    target_parent_indices[np.where(gas_inds == -1)[0],0] = star_inds[np.where(star_inds!=-1)[0]]\n",
    "    del gas_inds, star_inds\n",
    "    return target_parent_indices"
   ]
  },
  {
   "cell_type": "code",
   "execution_count": 72,
   "metadata": {},
   "outputs": [
    {
     "name": "stdout",
     "output_type": "stream",
     "text": [
      "CPU times: user 1min 29s, sys: 1.74 s, total: 1min 31s\n",
      "Wall time: 1min 31s\n"
     ]
    }
   ],
   "source": [
    "%%time\n",
    "a = parentIndicesOfAll(all_target_gas_ids,all_target_gas_ids,all_target_star_ids)"
   ]
  },
  {
   "cell_type": "code",
   "execution_count": 74,
   "metadata": {},
   "outputs": [
    {
     "name": "stdout",
     "output_type": "stream",
     "text": [
      "[]\n"
     ]
    }
   ],
   "source": [
    "test = np.where(a[:,1]==1)[0]\n",
    "print(test)"
   ]
  },
  {
   "cell_type": "code",
   "execution_count": 4,
   "metadata": {},
   "outputs": [
    {
     "name": "stdout",
     "output_type": "stream",
     "text": [
      "False\n",
      "# matches:  5\n",
      "# non-matches:  1\n",
      "[4 0 1]\n"
     ]
    }
   ],
   "source": [
    "ar2 = np.array([1,1,4,3,0,4]) #parent_ids\n",
    "ar1 = np.array([4,1,0]) #gas_ids\n",
    "inds1, inds2 = tF.match(ar1,ar2)\n",
    "print(np.ravel(ar1)[np.array([0,2,1])]) #alternative to np.take"
   ]
  },
  {
   "cell_type": "code",
   "execution_count": 5,
   "metadata": {},
   "outputs": [
    {
     "name": "stdout",
     "output_type": "stream",
     "text": [
      "[ 1  1  0 -1  2  0]\n",
      "[0 1 2 4 5]\n"
     ]
    }
   ],
   "source": [
    "print(inds1)\n",
    "print(inds2)"
   ]
  },
  {
   "cell_type": "code",
   "execution_count": 7,
   "metadata": {},
   "outputs": [],
   "source": [
    "#define function that saves results from TraceAllStars now for every single snapshot\n",
    "def TraceBackAllInsituStars_allSnaps(basePath,start_snap):\n",
    "    #load all star ids from a specific galaxy\n",
    "    star_ids = il.snapshot.loadSubset(basePath,start_snap,'stars',fields=['ParticleIDs'])\n",
    "\n",
    "    #determine all stars from that galaxy that were formed insitu\n",
    "    insitu = iF.is_insitu(basePath,np.arange(star_ids.size),start_snap)\n",
    "    insitu_star_indices = np.nonzero(insitu)[0]\n",
    "    \n",
    "    insituStarsInSubOffset = tF.insituStarsInSubOffset(basePath, start_snap)\n",
    "    \n",
    "    sim = basePath[32:39]    \n",
    "    result = h5py.File('files/'+sim+'/all_parent_indices.hdf5','w')    \n",
    "    \n",
    "    #run function for every snapshot\n",
    "    for target_snap in np.arange(99,1,-1):\n",
    "        parent_indices, tracersInSubOffset = tF.TraceAllStars(basePath,star_ids[insitu_star_indices],\\\n",
    "                                                       start_snap,target_snap,insituStarsInSubOffset)  \n",
    "        #save results in hdf5 file\n",
    "\n",
    "        grp = result.create_group(f'snap_0{target_snap}')\n",
    "        dset = grp.create_dataset(\"parent_indices\", parent_indices.shape, dtype=float)\n",
    "        dset[:] = parent_indices\n",
    "        dset2 = grp.create_dataset('tracers_in_parents_offset',tracersInSubOffset.shape, dtype=float)\n",
    "        dset2[:] = tracersInSubOffset\n",
    "        print(target_snap, 'done',flush=True)\n",
    "    result.close()\n",
    "    return"
   ]
  },
  {
   "cell_type": "code",
   "execution_count": 8,
   "metadata": {},
   "outputs": [
    {
     "name": "stdout",
     "output_type": "stream",
     "text": [
      "99 done\n",
      "98 done\n",
      "97 done\n",
      "96 done\n",
      "95 done\n",
      "94 done\n",
      "93 done\n",
      "92 done\n",
      "91 done\n",
      "90 done\n",
      "89 done\n",
      "88 done\n",
      "87 done\n",
      "86 done\n",
      "85 done\n",
      "84 done\n",
      "83 done\n",
      "82 done\n",
      "81 done\n",
      "80 done\n",
      "79 done\n",
      "78 done\n",
      "77 done\n",
      "76 done\n",
      "75 done\n",
      "74 done\n",
      "73 done\n",
      "72 done\n",
      "71 done\n",
      "70 done\n",
      "69 done\n",
      "68 done\n",
      "67 done\n",
      "66 done\n",
      "65 done\n",
      "64 done\n",
      "63 done\n",
      "62 done\n",
      "61 done\n",
      "60 done\n",
      "59 done\n",
      "58 done\n",
      "57 done\n",
      "56 done\n",
      "55 done\n",
      "54 done\n",
      "53 done\n",
      "52 done\n",
      "51 done\n",
      "50 done\n",
      "49 done\n",
      "48 done\n",
      "47 done\n",
      "46 done\n",
      "45 done\n",
      "44 done\n",
      "43 done\n",
      "42 done\n",
      "41 done\n",
      "40 done\n",
      "39 done\n",
      "38 done\n",
      "37 done\n",
      "36 done\n",
      "35 done\n",
      "34 done\n",
      "33 done\n",
      "32 done\n",
      "31 done\n",
      "30 done\n",
      "29 done\n",
      "28 done\n",
      "27 done\n",
      "26 done\n",
      "25 done\n",
      "24 done\n",
      "23 done\n",
      "22 done\n",
      "21 done\n",
      "20 done\n",
      "19 done\n",
      "18 done\n",
      "17 done\n",
      "16 done\n",
      "15 done\n",
      "14 done\n"
     ]
    },
    {
     "ename": "ValueError",
     "evalue": "shape mismatch: value array of shape (2174,) could not be broadcast to indexing result of shape (2173,)",
     "output_type": "error",
     "traceback": [
      "\u001b[0;31m---------------------------------------------------------------------------\u001b[0m",
      "\u001b[0;31mValueError\u001b[0m                                Traceback (most recent call last)",
      "\u001b[0;32m<ipython-input-8-6b591511340d>\u001b[0m in \u001b[0;36m<module>\u001b[0;34m\u001b[0m\n\u001b[1;32m      1\u001b[0m \u001b[0mbasePath\u001b[0m\u001b[0;34m=\u001b[0m\u001b[0;34m'/virgotng/universe/IllustrisTNG/TNG50-4/output'\u001b[0m\u001b[0;34m\u001b[0m\u001b[0;34m\u001b[0m\u001b[0m\n\u001b[0;32m----> 2\u001b[0;31m \u001b[0mTraceBackAllInsituStars_allSnaps\u001b[0m\u001b[0;34m(\u001b[0m\u001b[0mbasePath\u001b[0m\u001b[0;34m,\u001b[0m\u001b[0mstart_snap\u001b[0m \u001b[0;34m=\u001b[0m \u001b[0;36m99\u001b[0m\u001b[0;34m)\u001b[0m\u001b[0;34m\u001b[0m\u001b[0;34m\u001b[0m\u001b[0m\n\u001b[0m",
      "\u001b[0;32m<ipython-input-7-970da265ec61>\u001b[0m in \u001b[0;36mTraceBackAllInsituStars_allSnaps\u001b[0;34m(basePath, start_snap)\u001b[0m\n\u001b[1;32m     16\u001b[0m     \u001b[0;32mfor\u001b[0m \u001b[0mtarget_snap\u001b[0m \u001b[0;32min\u001b[0m \u001b[0mnp\u001b[0m\u001b[0;34m.\u001b[0m\u001b[0marange\u001b[0m\u001b[0;34m(\u001b[0m\u001b[0;36m99\u001b[0m\u001b[0;34m,\u001b[0m\u001b[0;36m1\u001b[0m\u001b[0;34m,\u001b[0m\u001b[0;34m-\u001b[0m\u001b[0;36m1\u001b[0m\u001b[0;34m)\u001b[0m\u001b[0;34m:\u001b[0m\u001b[0;34m\u001b[0m\u001b[0;34m\u001b[0m\u001b[0m\n\u001b[1;32m     17\u001b[0m         parent_indices, tracersInSubOffset = tF.TraceAllStars(basePath,star_ids[insitu_star_indices],\\\n\u001b[0;32m---> 18\u001b[0;31m                                                        start_snap,target_snap,insituStarsInSubOffset)  \n\u001b[0m\u001b[1;32m     19\u001b[0m         \u001b[0;31m#save results in hdf5 file\u001b[0m\u001b[0;34m\u001b[0m\u001b[0;34m\u001b[0m\u001b[0;34m\u001b[0m\u001b[0m\n\u001b[1;32m     20\u001b[0m \u001b[0;34m\u001b[0m\u001b[0m\n",
      "\u001b[0;32m/vera/u/olwitt/project/tracerFuncs.py\u001b[0m in \u001b[0;36mTraceAllStars\u001b[0;34m(basePath, star_ids, start_snap, target_snap, StarsInSubOffset)\u001b[0m\n\u001b[1;32m    231\u001b[0m \u001b[0;34m\u001b[0m\u001b[0m\n\u001b[1;32m    232\u001b[0m     target_parent_indices = parentIndicesOfAll(parent_ids = target_parent_search_ids, all_gas_ids = all_target_gas_ids,\\\n\u001b[0;32m--> 233\u001b[0;31m                                                all_star_ids = all_target_star_ids)\n\u001b[0m\u001b[1;32m    234\u001b[0m \u001b[0;34m\u001b[0m\u001b[0m\n\u001b[1;32m    235\u001b[0m \u001b[0;34m\u001b[0m\u001b[0m\n",
      "\u001b[0;32m/vera/u/olwitt/project/tracerFuncs.py\u001b[0m in \u001b[0;36mparentIndicesOfAll\u001b[0;34m(parent_ids, all_gas_ids, all_star_ids)\u001b[0m\n\u001b[1;32m    179\u001b[0m     \u001b[0mtarget_parent_indices\u001b[0m\u001b[0;34m[\u001b[0m\u001b[0;34m:\u001b[0m\u001b[0;34m,\u001b[0m\u001b[0;36m1\u001b[0m\u001b[0;34m]\u001b[0m \u001b[0;34m=\u001b[0m \u001b[0;36m0\u001b[0m\u001b[0;34m\u001b[0m\u001b[0;34m\u001b[0m\u001b[0m\n\u001b[1;32m    180\u001b[0m     \u001b[0mtarget_parent_indices\u001b[0m\u001b[0;34m[\u001b[0m\u001b[0mnp\u001b[0m\u001b[0;34m.\u001b[0m\u001b[0mwhere\u001b[0m\u001b[0;34m(\u001b[0m\u001b[0mgas_inds\u001b[0m \u001b[0;34m==\u001b[0m \u001b[0;34m-\u001b[0m\u001b[0;36m1\u001b[0m\u001b[0;34m)\u001b[0m\u001b[0;34m[\u001b[0m\u001b[0;36m0\u001b[0m\u001b[0;34m]\u001b[0m\u001b[0;34m,\u001b[0m\u001b[0;36m1\u001b[0m\u001b[0;34m]\u001b[0m \u001b[0;34m=\u001b[0m \u001b[0;36m1\u001b[0m \u001b[0;31m#no gas index found => parent is a star\u001b[0m\u001b[0;34m\u001b[0m\u001b[0;34m\u001b[0m\u001b[0m\n\u001b[0;32m--> 181\u001b[0;31m     \u001b[0mtarget_parent_indices\u001b[0m\u001b[0;34m[\u001b[0m\u001b[0mnp\u001b[0m\u001b[0;34m.\u001b[0m\u001b[0mwhere\u001b[0m\u001b[0;34m(\u001b[0m\u001b[0mgas_inds\u001b[0m \u001b[0;34m==\u001b[0m \u001b[0;34m-\u001b[0m\u001b[0;36m1\u001b[0m\u001b[0;34m)\u001b[0m\u001b[0;34m[\u001b[0m\u001b[0;36m0\u001b[0m\u001b[0;34m]\u001b[0m\u001b[0;34m,\u001b[0m\u001b[0;36m0\u001b[0m\u001b[0;34m]\u001b[0m \u001b[0;34m=\u001b[0m \u001b[0mstar_inds\u001b[0m\u001b[0;34m[\u001b[0m\u001b[0mnp\u001b[0m\u001b[0;34m.\u001b[0m\u001b[0mwhere\u001b[0m\u001b[0;34m(\u001b[0m\u001b[0mstar_inds\u001b[0m \u001b[0;34m!=\u001b[0m \u001b[0;34m-\u001b[0m\u001b[0;36m1\u001b[0m\u001b[0;34m)\u001b[0m\u001b[0;34m[\u001b[0m\u001b[0;36m0\u001b[0m\u001b[0;34m]\u001b[0m\u001b[0;34m]\u001b[0m\u001b[0;34m\u001b[0m\u001b[0;34m\u001b[0m\u001b[0m\n\u001b[0m\u001b[1;32m    182\u001b[0m     \u001b[0;32mdel\u001b[0m \u001b[0mgas_inds\u001b[0m\u001b[0;34m,\u001b[0m \u001b[0mstar_inds\u001b[0m\u001b[0;34m\u001b[0m\u001b[0;34m\u001b[0m\u001b[0m\n\u001b[1;32m    183\u001b[0m     \u001b[0;32mreturn\u001b[0m \u001b[0mtarget_parent_indices\u001b[0m\u001b[0;34m\u001b[0m\u001b[0;34m\u001b[0m\u001b[0m\n",
      "\u001b[0;31mValueError\u001b[0m: shape mismatch: value array of shape (2174,) could not be broadcast to indexing result of shape (2173,)"
     ]
    }
   ],
   "source": [
    "basePath='/virgotng/universe/IllustrisTNG/TNG50-4/output'\n",
    "TraceBackAllInsituStars_allSnaps(basePath,start_snap = 99)"
   ]
  },
  {
   "cell_type": "code",
   "execution_count": 9,
   "metadata": {},
   "outputs": [
    {
     "name": "stdout",
     "output_type": "stream",
     "text": [
      "<KeysViewHDF5 ['snap_010', 'snap_011', 'snap_012', 'snap_013', 'snap_014', 'snap_015', 'snap_016', 'snap_017', 'snap_018', 'snap_019', 'snap_02', 'snap_020', 'snap_021', 'snap_022', 'snap_023', 'snap_024', 'snap_025', 'snap_026', 'snap_027', 'snap_028', 'snap_029', 'snap_03', 'snap_030', 'snap_031', 'snap_032', 'snap_033', 'snap_034', 'snap_035', 'snap_037', 'snap_038', 'snap_039', 'snap_04', 'snap_040', 'snap_041', 'snap_042', 'snap_043', 'snap_044', 'snap_045', 'snap_046', 'snap_047', 'snap_048', 'snap_049', 'snap_05', 'snap_050', 'snap_051', 'snap_052', 'snap_053', 'snap_054', 'snap_055', 'snap_056', 'snap_057', 'snap_058', 'snap_059', 'snap_06', 'snap_060', 'snap_061', 'snap_062', 'snap_063', 'snap_064', 'snap_065', 'snap_066', 'snap_067', 'snap_068', 'snap_069', 'snap_07', 'snap_070', 'snap_071', 'snap_072', 'snap_073', 'snap_074', 'snap_075', 'snap_076', 'snap_077', 'snap_078', 'snap_079', 'snap_08', 'snap_080', 'snap_081', 'snap_082', 'snap_083', 'snap_084', 'snap_085', 'snap_086', 'snap_087', 'snap_088', 'snap_089', 'snap_09', 'snap_090', 'snap_091', 'snap_092', 'snap_093', 'snap_094', 'snap_095', 'snap_096', 'snap_097', 'snap_098', 'snap_099']>\n"
     ]
    }
   ],
   "source": [
    "f = h5py.File('files/TNG50-2/all_parent_indices.hdf5','r')\n",
    "print(f.keys())\n",
    "f.close()"
   ]
  },
  {
   "cell_type": "code",
   "execution_count": null,
   "metadata": {},
   "outputs": [],
   "source": []
  }
 ],
 "metadata": {
  "kernelspec": {
   "display_name": "Python 3",
   "language": "python",
   "name": "python3"
  },
  "language_info": {
   "codemirror_mode": {
    "name": "ipython",
    "version": 3
   },
   "file_extension": ".py",
   "mimetype": "text/x-python",
   "name": "python",
   "nbconvert_exporter": "python",
   "pygments_lexer": "ipython3",
   "version": "3.7.6"
  }
 },
 "nbformat": 4,
 "nbformat_minor": 4
}
