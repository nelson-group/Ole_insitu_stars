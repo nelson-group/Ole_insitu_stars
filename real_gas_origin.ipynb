{
 "cells": [
  {
   "cell_type": "code",
   "execution_count": 61,
   "metadata": {},
   "outputs": [],
   "source": [
    "import sys\n",
    "sys.path.append('/vera/u/olwitt/illustris_python/illustris_python')\n",
    "from loadMPBs import loadMPBs\n",
    "\n",
    "import time\n",
    "import illustris_python as il\n",
    "import matplotlib.pyplot as plt\n",
    "import numpy as np\n",
    "import h5py\n",
    "import numba as nb\n",
    "from numba import jit, njit\n",
    "import tracerFuncs as tF\n",
    "import insituFuncs as iF\n",
    "\n",
    "plt.style.use('default')\n",
    "plt.rcParams[\"figure.figsize\"][0] = 16\n",
    "plt.rcParams[\"figure.figsize\"][1] = 9\n",
    "plt.rcParams['errorbar.capsize']=2"
   ]
  },
  {
   "cell_type": "code",
   "execution_count": 3,
   "metadata": {},
   "outputs": [
    {
     "name": "stdout",
     "output_type": "stream",
     "text": [
      "0.6774\n"
     ]
    }
   ],
   "source": [
    "basePath='/virgotng/universe/IllustrisTNG/TNG50-4/output'\n",
    "h_const=il.groupcat.loadHeader(basePath,99)['HubbleParam']\n",
    "boxSize = il.groupcat.loadHeader(basePath,99)['BoxSize']\n",
    "print(h_const)"
   ]
  },
  {
   "cell_type": "markdown",
   "metadata": {},
   "source": [
    "# where is tracer parent?"
   ]
  },
  {
   "cell_type": "markdown",
   "metadata": {},
   "source": [
    "find out, where the tracer parent sits, i.e. whether it's still in the main progenitor or in another galaxy or in the IGM"
   ]
  },
  {
   "cell_type": "code",
   "execution_count": 110,
   "metadata": {},
   "outputs": [],
   "source": [
    "def location_of_parents(parent_index_filename, basePath, start_snap, target_snap):\n",
    "    \"\"\"first output returns the subhalo index if the tracer parent particle sits in a galaxy or -1 if it's in the IGM\n",
    "    second output states, whether parent particle is inside main progenitor\"\"\"\n",
    "    start = time.time()\n",
    "    #load file\n",
    "    index_file = h5py.File(parent_index_filename,'r')\n",
    "    parent_indices = index_file['parent_indices'][:,:]\n",
    "    \n",
    "    location = np.empty(parent_indices[:,0].shape,dtype=int)\n",
    "    location.fill(-1)\n",
    "    \n",
    "    f = h5py.File(basePath[:-6] + 'postprocessing/offsets/offsets_0' + str(target_snap) + '.hdf5','r')\n",
    "    starsInSubOffset = f['Subhalo/SnapByType'][:,4]\n",
    "    gasInSubOffset = f['Subhalo/SnapByType'][:,0]\n",
    "    \n",
    "    \n",
    "    #load number of particles per galaxy to avoid classifying parents as bound to a galaxy \n",
    "    #while they're in reality \"inner fuzz\"\n",
    "    #of a halo\n",
    "    num_in_sub = il.groupcat.loadSubhalos(basePath, target_snap, fields = ['SubhaloLenType'])\n",
    "    gas_num_in_sub = num_in_sub[:,0].copy()\n",
    "    star_num_in_sub = num_in_sub[:,4].copy()\n",
    "    del num_in_sub\n",
    "    end_load = time.time()\n",
    "    print('time for loading: ',end_load-start)\n",
    "    \n",
    "    #find parent index in offset files\n",
    "    which = parent_indices[:,1]\n",
    "    indices = parent_indices[:,0]     \n",
    "    for i in nb.prange(parent_indices[:,0].shape[0]):\n",
    "        if which[i] == 0: #gas parent\n",
    "            ind = np.searchsorted(gasInSubOffset,indices[i],'right')\n",
    "            ind-=1 #compensate for how np.searchsorted chooses the index\n",
    "            \n",
    "            #only important for last galaxy of halo: check whether particle is inner fuzz, i.e. IGM particles\n",
    "            if gasInSubOffset[ind] + gas_num_in_sub[ind] < indices[i]:\n",
    "                continue\n",
    "            \n",
    "        else: #star parent\n",
    "            ind = np.searchsorted(starsInSubOffset,indices[i],'right')\n",
    "            ind-=1 #compensate for how np.searchsorted chooses the index\n",
    "            \n",
    "            #only important for last galaxy of halo: check whether particle is inner fuzz, i.e. IGM particles\n",
    "            if starsInSubOffset[ind] + star_num_in_sub[ind] < indices[i]:\n",
    "                continue\n",
    "                \n",
    "        location[i]=ind\n",
    "    \n",
    "    end_loc = time.time()\n",
    "    print('time for locating: ',end_loc - end_load)\n",
    "    \n",
    "    #now identify parents that are still in their (main progenitor) galaxy\n",
    "    g = h5py.File(basePath[:-6] + 'postprocessing/offsets/offsets_0' + str(start_snap) + '.hdf5','r')\n",
    "    starsInSubOffset_start_snap = g['Subhalo/SnapByType'][:,4]\n",
    "    stars_in_subs_start_snap = il.groupcat.loadSubhalos(basePath, start_snap, fields = ['SubhaloLenType'])[:,4]\n",
    "    \n",
    "    #########################################problem with fuzz???##########################################\n",
    "    #calculate _inSitu_ star offsets again\n",
    "    check = h5py.File(basePath[:-6] + 'postprocessing/StellarAssembly/stars_0' + str(start_snap) + '.hdf5','r')\n",
    "    insitu = np.asarray(check['InSitu'][:]==1)\n",
    "    check.close()\n",
    "    insituStarsInSubOffset = np.zeros(starsInSubOffset_start_snap.shape[0])\n",
    "    for i in range(1,starsInSubOffset_start_snap.shape[0]):\n",
    "        star_indices = np.arange(starsInSubOffset_start_snap[i-1],starsInSubOffset_start_snap[i])\n",
    "        insitu_indices = insitu[star_indices]\n",
    "        insituStarsInSubOffset[i] = len(np.nonzero(insitu_indices)[0])\n",
    "    insituStarsInSubOffset = np.cumsum(insituStarsInSubOffset)\n",
    "    tracersInParentsOffsets = index_file['tracers_in_parents_offset'][:].copy()\n",
    "    parentsInSubOffset = tF.tracersInSubhalo(insituStarsInSubOffset,tracersInParentsOffsets).astype(int)\n",
    "    ######################################################################################################\n",
    "    end_insitu = time.time()\n",
    "    print('time for insitu offsets: ',end_insitu - end_loc)\n",
    "    \n",
    "    numSubs = il.groupcat.loadSubhalos(basePath,99,fields=['SubhaloPos']).shape\n",
    "    ids = np.arange(numSubs[0])\n",
    "\n",
    "    #load all MPBs\n",
    "    tree_ids = loadMPBs(basePath,99,ids=ids, fields=['SubfindID'])\n",
    "    end_loadMPBs = time.time()\n",
    "    print('time for loading MPBs: ',end_loadMPBs - end_loc)\n",
    "    \n",
    "    isInMP = np.empty(parent_indices[:,0].shape,dtype=bool)\n",
    "    isInMP.fill(False)\n",
    "    tree_check = list(tree_ids)\n",
    "    \n",
    "    #determine missing trees:\n",
    "    missing = []\n",
    "    counter = 0\n",
    "    for i in range(parentsInSubOffset.shape[0]):\n",
    "        if i != tree_check[counter]:\n",
    "            missing.append(i)\n",
    "            i+=1\n",
    "            continue\n",
    "        counter+=1\n",
    "    print(np.array(missing))        \n",
    "    end_check = time.time()        \n",
    "    print('time for checking trees: ',end_check - end_loadMPBs)\n",
    "    for j in nb.prange(1,parentsInSubOffset.shape[0]): #loop over all galaxies at z=0\n",
    "        #find all associated particles:\n",
    "        ParentIndicesInSub = np.arange(parentsInSubOffset[j-1],parentsInSubOffset[j])\n",
    "        \n",
    "        if j in missing: #if subhalo hast no tree, skip it and assign \"False\"\n",
    "            continue\n",
    "        if tree_ids[j]['SubfindID'].shape[0] < start_snap - target_snap: #if tree doesn't reach until target_snap\n",
    "            continue\n",
    "        main_prog = tree_ids[j]['SubfindID'][start_snap - target_snap]\n",
    "        isInMP[np.where(location[ParentIndicesInSub] == main_prog)[0]] = True\n",
    "        \n",
    "    end = time.time()\n",
    "    print('time for checking MPs: ',end - end_check)\n",
    "    \n",
    "    f.close()\n",
    "    g.close()\n",
    "    index_file.close()\n",
    "    return location, isInMP"
   ]
  },
  {
   "cell_type": "code",
   "execution_count": 109,
   "metadata": {
    "scrolled": false
   },
   "outputs": [
    {
     "name": "stdout",
     "output_type": "stream",
     "text": [
      "time for loading:  0.025000810623168945\n",
      "time for locating:  6.079702377319336\n",
      "time for insitu offsets:  0.10568094253540039\n",
      "time for loading MPBs:  0.37639427185058594\n",
      "[  162   185   828   842  1095  1294  1505  1528  1532  1534  1582  2032\n",
      "  2275  2439  2498  2993  3763 15752]\n",
      "time for checking trees:  0.00695037841796875\n"
     ]
    },
    {
     "ename": "KeyError",
     "evalue": "162",
     "output_type": "error",
     "traceback": [
      "\u001b[0;31m---------------------------------------------------------------------------\u001b[0m",
      "\u001b[0;31mKeyError\u001b[0m                                  Traceback (most recent call last)",
      "\u001b[0;32m<ipython-input-109-ef42d960c245>\u001b[0m in \u001b[0;36m<module>\u001b[0;34m\u001b[0m\n\u001b[1;32m      1\u001b[0m location, isInMP = location_of_parents('files/TNG50-4/parent_indices_redshift_0.0.hdf5',\\\n\u001b[0;32m----> 2\u001b[0;31m                                        basePath, start_snap = 99, target_snap = 99)\n\u001b[0m",
      "\u001b[0;32m<ipython-input-108-a6d5821ef926>\u001b[0m in \u001b[0;36mlocation_of_parents\u001b[0;34m(parent_index_filename, basePath, start_snap, target_snap)\u001b[0m\n\u001b[1;32m    102\u001b[0m         \u001b[0;32mif\u001b[0m \u001b[0mj\u001b[0m \u001b[0;32mnot\u001b[0m \u001b[0;32min\u001b[0m \u001b[0mmissing\u001b[0m\u001b[0;34m:\u001b[0m \u001b[0;31m#if subhalo hast no tree, skip it and assign \"False\"\u001b[0m\u001b[0;34m\u001b[0m\u001b[0;34m\u001b[0m\u001b[0m\n\u001b[1;32m    103\u001b[0m             \u001b[0;32mcontinue\u001b[0m\u001b[0;34m\u001b[0m\u001b[0;34m\u001b[0m\u001b[0m\n\u001b[0;32m--> 104\u001b[0;31m         \u001b[0;32mif\u001b[0m \u001b[0mtree_ids\u001b[0m\u001b[0;34m[\u001b[0m\u001b[0mj\u001b[0m\u001b[0;34m]\u001b[0m\u001b[0;34m[\u001b[0m\u001b[0;34m'SubfindID'\u001b[0m\u001b[0;34m]\u001b[0m\u001b[0;34m.\u001b[0m\u001b[0mshape\u001b[0m\u001b[0;34m[\u001b[0m\u001b[0;36m0\u001b[0m\u001b[0;34m]\u001b[0m \u001b[0;34m<\u001b[0m \u001b[0mstart_snap\u001b[0m \u001b[0;34m-\u001b[0m \u001b[0mtarget_snap\u001b[0m\u001b[0;34m:\u001b[0m \u001b[0;31m#if tree doesn't reach until target_snap\u001b[0m\u001b[0;34m\u001b[0m\u001b[0;34m\u001b[0m\u001b[0m\n\u001b[0m\u001b[1;32m    105\u001b[0m             \u001b[0;32mcontinue\u001b[0m\u001b[0;34m\u001b[0m\u001b[0;34m\u001b[0m\u001b[0m\n\u001b[1;32m    106\u001b[0m         \u001b[0mmain_prog\u001b[0m \u001b[0;34m=\u001b[0m \u001b[0mtree_ids\u001b[0m\u001b[0;34m[\u001b[0m\u001b[0mj\u001b[0m\u001b[0;34m]\u001b[0m\u001b[0;34m[\u001b[0m\u001b[0;34m'SubfindID'\u001b[0m\u001b[0;34m]\u001b[0m\u001b[0;34m[\u001b[0m\u001b[0mstart_snap\u001b[0m \u001b[0;34m-\u001b[0m \u001b[0mtarget_snap\u001b[0m\u001b[0;34m]\u001b[0m\u001b[0;34m\u001b[0m\u001b[0;34m\u001b[0m\u001b[0m\n",
      "\u001b[0;31mKeyError\u001b[0m: 162"
     ]
    }
   ],
   "source": [
    "location, isInMP = location_of_parents('files/TNG50-4/parent_indices_redshift_0.0.hdf5',\\\n",
    "                                       basePath, start_snap = 99, target_snap = 99)"
   ]
  },
  {
   "cell_type": "code",
   "execution_count": 101,
   "metadata": {},
   "outputs": [
    {
     "name": "stdout",
     "output_type": "stream",
     "text": [
      "(3361,)\n"
     ]
    }
   ],
   "source": [
    "print(np.where(isInMP==True)[0].shape)"
   ]
  },
  {
   "cell_type": "code",
   "execution_count": null,
   "metadata": {},
   "outputs": [],
   "source": []
  }
 ],
 "metadata": {
  "kernelspec": {
   "display_name": "Python 3",
   "language": "python",
   "name": "python3"
  },
  "language_info": {
   "codemirror_mode": {
    "name": "ipython",
    "version": 3
   },
   "file_extension": ".py",
   "mimetype": "text/x-python",
   "name": "python",
   "nbconvert_exporter": "python",
   "pygments_lexer": "ipython3",
   "version": "3.7.6"
  }
 },
 "nbformat": 4,
 "nbformat_minor": 4
}
